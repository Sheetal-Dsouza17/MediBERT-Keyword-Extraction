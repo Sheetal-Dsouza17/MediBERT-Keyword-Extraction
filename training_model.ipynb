{
 "cells": [
  {
   "cell_type": "code",
   "execution_count": null,
   "metadata": {},
   "outputs": [],
   "source": [
    "from transformers import BertTokenizer, BertForSequenceClassification, Trainer, TrainingArguments\n",
    "from sklearn.model_selection import train_test_split\n",
    "from sklearn.preprocessing import LabelEncoder\n",
    "import torch\n",
    "from torch.utils.data import Dataset, DataLoader\n",
    "import pandas as pd"
   ]
  },
  {
   "cell_type": "code",
   "execution_count": null,
   "metadata": {},
   "outputs": [],
   "source": [
    "# Load your data\n",
    "data = pd.read_csv(\"pakka.csv\")\n",
    "data.head()"
   ]
  },
  {
   "cell_type": "code",
   "execution_count": null,
   "metadata": {},
   "outputs": [],
   "source": [
    "data['diagnosis_Keywords_flat'] = data['diagnosis_Keywords'].apply(lambda x: x[0] if isinstance(x, list) and x else x)\n",
    "print(data['diagnosis_Keywords_flat'].unique())\n"
   ]
  },
  {
   "cell_type": "code",
   "execution_count": null,
   "metadata": {},
   "outputs": [],
   "source": [
    "# Preprocess keywords to form strings and encode labels\n",
    "data['text'] = data['microscopic appearance_Keywords'].apply(lambda x: ' '.join(eval(x)))\n",
    "\n",
    "\n",
    "label_encoder = LabelEncoder()\n",
    "data['label'] = label_encoder.fit_transform(data['diagnosis_Keywords_flat'])\n",
    "print(data['text'][2]) \n",
    "data.head()"
   ]
  },
  {
   "cell_type": "code",
   "execution_count": 6,
   "metadata": {},
   "outputs": [],
   "source": [
    "# Train-test split\n",
    "train_texts, val_texts, train_labels, val_labels = train_test_split(\n",
    "    data['text'].tolist(), data['label'].tolist(), test_size=0.2, random_state=42\n",
    ")\n",
    "\n",
    "# Tokenization\n",
    "tokenizer = BertTokenizer.from_pretrained(\"bert-base-uncased\")\n",
    "\n",
    "class MedicalDataset(Dataset):\n",
    "    def __init__(self, texts, labels, tokenizer, max_length=128):\n",
    "        self.texts = texts\n",
    "        self.labels = labels\n",
    "        self.tokenizer = tokenizer\n",
    "        self.max_length = max_length\n",
    "\n",
    "    def __len__(self):\n",
    "        return len(self.texts)\n",
    "\n",
    "    def __getitem__(self, idx):\n",
    "        encoding = self.tokenizer(\n",
    "            self.texts[idx],\n",
    "            padding='max_length',\n",
    "            truncation=True,\n",
    "            max_length=self.max_length,\n",
    "            return_tensors='pt'\n",
    "        )\n",
    "        item = {key: val.squeeze() for key, val in encoding.items()}\n",
    "        item['labels'] = torch.tensor(self.labels[idx], dtype=torch.long)\n",
    "        return item\n",
    "\n",
    "train_dataset = MedicalDataset(train_texts, train_labels, tokenizer)\n",
    "val_dataset = MedicalDataset(val_texts, val_labels, tokenizer)\n",
    "\n"
   ]
  },
  {
   "cell_type": "code",
   "execution_count": null,
   "metadata": {},
   "outputs": [],
   "source": [
    "# Load the BERT model with a classification head\n",
    "model = BertForSequenceClassification.from_pretrained(\"bert-base-uncased\", num_labels=len(label_encoder.classes_))\n",
    "\n",
    "# Training arguments\n",
    "training_args = TrainingArguments(\n",
    "    output_dir=\"./results\",\n",
    "    evaluation_strategy=\"epoch\",\n",
    "    learning_rate=2e-5,\n",
    "    per_device_train_batch_size=8,\n",
    "    per_device_eval_batch_size=8,\n",
    "    num_train_epochs=10,\n",
    "    weight_decay=0.01,\n",
    "    logging_dir='./logs',\n",
    ")\n",
    "\n",
    "# Trainer\n",
    "trainer = Trainer(\n",
    "    model=model,\n",
    "    args=training_args,\n",
    "    train_dataset=train_dataset,\n",
    "    eval_dataset=val_dataset,\n",
    ")\n",
    "\n",
    "# Train the model\n",
    "trainer.train()\n",
    "\n",
    "# Save the model and tokenizer for later use\n",
    "model.save_pretrained(\"medical_diagnosis_bert_model\")\n",
    "tokenizer.save_pretrained(\"medical_diagnosis_bert_model\")\n"
   ]
  },
  {
   "cell_type": "code",
   "execution_count": null,
   "metadata": {},
   "outputs": [],
   "source": [
    "import joblib\n",
    "joblib.dump(label_encoder, \"label_encoder.pkl\")\n"
   ]
  },
  {
   "cell_type": "code",
   "execution_count": null,
   "metadata": {},
   "outputs": [],
   "source": [
    "import joblib\n",
    "import pandas as pd\n",
    "\n",
    "# Load your dataset\n",
    "data = pd.read_csv(\"pakka.csv\")\n",
    "\n",
    "# Extract unique microscopic appearance keywords\n",
    "microscopic_keywords = set()\n",
    "for entry in data['microscopic appearance_Keywords']:\n",
    "    if isinstance(entry, str):\n",
    "        microscopic_keywords.update(eval(entry))  # Convert string to list and collect keywords\n",
    "\n",
    "# Save the keywords to a file\n",
    "joblib.dump(sorted(microscopic_keywords), \"microscopic_keywords.pkl\")\n"
   ]
  },
  {
   "cell_type": "code",
   "execution_count": null,
   "metadata": {},
   "outputs": [],
   "source": [
    "import joblib\n",
    "import pandas as pd\n",
    "\n",
    "# Load your dataset (one-time operation during preprocessing)\n",
    "data = pd.read_csv(\"pakka.csv\")\n",
    "\n",
    "# Group microscopic appearance keywords by diagnosis\n",
    "grouped_keywords = {}\n",
    "for _, row in data.iterrows():\n",
    "    diagnosis = row['diagnosis_Keywords']\n",
    "    if isinstance(row['microscopic appearance_Keywords'], str):\n",
    "        keywords = eval(row['microscopic appearance_Keywords'])\n",
    "        if diagnosis not in grouped_keywords:\n",
    "            grouped_keywords[diagnosis] = set()\n",
    "        grouped_keywords[diagnosis].update(keywords)\n",
    "\n",
    "# Convert sets to lists and save to a file\n",
    "grouped_keywords = {diagnosis: sorted(keywords) for diagnosis, keywords in grouped_keywords.items()}\n",
    "joblib.dump(grouped_keywords, \"grouped_keywords.pkl\")\n"
   ]
  },
  {
   "cell_type": "code",
   "execution_count": null,
   "metadata": {},
   "outputs": [],
   "source": []
  }
 ],
 "metadata": {
  "kernelspec": {
   "display_name": "Python 3",
   "language": "python",
   "name": "python3"
  },
  "language_info": {
   "codemirror_mode": {
    "name": "ipython",
    "version": 3
   },
   "file_extension": ".py",
   "mimetype": "text/x-python",
   "name": "python",
   "nbconvert_exporter": "python",
   "pygments_lexer": "ipython3",
   "version": "3.12.0"
  }
 },
 "nbformat": 4,
 "nbformat_minor": 2
}
